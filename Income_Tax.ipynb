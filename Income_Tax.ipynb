{
  "cells": [
    {
      "cell_type": "code",
      "execution_count": null,
      "metadata": {
        "colab": {
          "base_uri": "https://localhost:8080/"
        },
        "id": "O858Jfly4wiv",
        "outputId": "ab9f32fe-6798-49d3-fb0f-0bfebfbb5cf8"
      },
      "outputs": [
        {
          "name": "stdout",
          "output_type": "stream",
          "text": [
            "Requirement already satisfied: pypdf in /usr/local/lib/python3.10/dist-packages (5.1.0)\n",
            "Requirement already satisfied: typing_extensions>=4.0 in /usr/local/lib/python3.10/dist-packages (from pypdf) (4.12.2)\n"
          ]
        }
      ],
      "source": [
        "pip install pypdf"
      ]
    },
    {
      "cell_type": "code",
      "execution_count": null,
      "metadata": {
        "colab": {
          "base_uri": "https://localhost:8080/"
        },
        "id": "6ilh1dW_wzYP",
        "outputId": "c843d92f-e6f7-41fe-e279-09c346715bf3"
      },
      "outputs": [],
      "source": [
        "pip install langchain_community"
      ]
    },
    {
      "cell_type": "code",
      "execution_count": null,
      "metadata": {
        "id": "9TCETzWj5WaK"
      },
      "outputs": [],
      "source": [
        "from langchain_community.document_loaders import PyPDFLoader"
      ]
    },
    {
      "cell_type": "code",
      "execution_count": null,
      "metadata": {
        "id": "_NggthIiw6oP"
      },
      "outputs": [],
      "source": [
        "!pip install langchain"
      ]
    },
    {
      "cell_type": "code",
      "execution_count": null,
      "metadata": {
        "id": "p8nF7dSG5ZFD"
      },
      "outputs": [],
      "source": [
        "loader = PyPDFLoader(r\"/content/drive/MyDrive/Income Tax.pdf\")\n",
        "pages = loader.load_and_split()"
      ]
    },
    {
      "cell_type": "code",
      "execution_count": null,
      "metadata": {
        "id": "It_3Hn5K06O7"
      },
      "outputs": [],
      "source": [
        "pages"
      ]
    },
    {
      "cell_type": "code",
      "execution_count": null,
      "metadata": {
        "colab": {
          "base_uri": "https://localhost:8080/"
        },
        "id": "ZKCdMOfXnmjW",
        "outputId": "3ca58147-1ca0-48e3-d1ea-5aedf6fa6e81"
      },
      "outputs": [
        {
          "data": {
            "text/plain": [
              "list"
            ]
          },
          "execution_count": 13,
          "metadata": {},
          "output_type": "execute_result"
        }
      ],
      "source": [
        "type(pages)"
      ]
    },
    {
      "cell_type": "code",
      "execution_count": null,
      "metadata": {
        "colab": {
          "base_uri": "https://localhost:8080/"
        },
        "id": "VqqeIH_haokh",
        "outputId": "52d0065e-d7ea-49b3-bdfc-ffffba3d03a1"
      },
      "outputs": [
        {
          "data": {
            "text/plain": [
              "1059"
            ]
          },
          "execution_count": 14,
          "metadata": {},
          "output_type": "execute_result"
        }
      ],
      "source": [
        "len(pages)"
      ]
    },
    {
      "cell_type": "code",
      "execution_count": null,
      "metadata": {
        "id": "Z_5czsmbaf3e"
      },
      "outputs": [],
      "source": [
        "!pip install --upgrade langchain_community\n",
        "!pip install --upgrade langchain"
      ]
    },
    {
      "cell_type": "code",
      "execution_count": null,
      "metadata": {
        "id": "-UNZZHDPYVUM"
      },
      "outputs": [],
      "source": [
        "from langchain.document_loaders import PyPDFLoader\n",
        "from langchain.vectorstores import Chroma"
      ]
    },
    {
      "cell_type": "code",
      "execution_count": null,
      "metadata": {
        "id": "dK2-OylvnyO-"
      },
      "outputs": [],
      "source": [
        "pip install sentence_transformers"
      ]
    },
    {
      "cell_type": "code",
      "execution_count": null,
      "metadata": {
        "id": "FtB4Fg6gwQ4L"
      },
      "outputs": [],
      "source": [
        "from langchain.text_splitter import SpacyTextSplitter\n",
        "\n",
        "text_splitter = SpacyTextSplitter(chunk_size=500)"
      ]
    },
    {
      "cell_type": "code",
      "execution_count": null,
      "metadata": {
        "id": "NnvksKBlxEc5"
      },
      "outputs": [],
      "source": [
        "from langchain.text_splitter import CharacterTextSplitter\n",
        "text_splitter = CharacterTextSplitter(\n",
        "separator = \"\\n\",\n",
        "chunk_size = 500,\n",
        "chunk_overlap = 100,\n",
        "length_function = len,\n",
        "is_separator_regex = False,\n",
        ")"
      ]
    },
    {
      "cell_type": "code",
      "execution_count": null,
      "metadata": {
        "id": "0sUO-lTuwpEG"
      },
      "outputs": [],
      "source": [
        "texts = text_splitter.split_documents(documents=pages)"
      ]
    },
    {
      "cell_type": "code",
      "execution_count": null,
      "metadata": {
        "colab": {
          "base_uri": "https://localhost:8080/"
        },
        "id": "kkvNhE69up6_",
        "outputId": "0b58ce06-9cd7-409e-8da8-2f9f2e48a780"
      },
      "outputs": [
        {
          "name": "stdout",
          "output_type": "stream",
          "text": [
            "page_content='1 \n",
            "THE INCOME-TAX ACT, 1961 \n",
            "____________ \n",
            "ARRANGEMENT OF SECTIONS \n",
            "____________ \n",
            "CHAPTER I \n",
            "PRELIMINARY \n",
            "SECTIONS  \n",
            "1. Short title, extent and commencement. \n",
            "2. Definitions. \n",
            "3. “Previous year” defined. \n",
            "CHAPTER II \n",
            "BASIS OF CHARGE \n",
            "4. Charge of income-tax. \n",
            "5. Scope of total income. \n",
            "5A. Apportionment of income between spouses governed by Portuguese Civil Code. \n",
            "6. Residence in India. \n",
            "7. Income deemed to be received. \n",
            "8. Dividend income. \n",
            "9. Income deemed to accrue or arise in India.' metadata={'source': '/content/drive/MyDrive/Income Tax.pdf', 'page': 0}\n"
          ]
        }
      ],
      "source": [
        "print(texts[0])"
      ]
    },
    {
      "cell_type": "code",
      "execution_count": null,
      "metadata": {
        "colab": {
          "base_uri": "https://localhost:8080/"
        },
        "id": "3ATkuqburHmb",
        "outputId": "f101d08d-d337-462e-d81d-7a0ad45e81cf"
      },
      "outputs": [
        {
          "name": "stdout",
          "output_type": "stream",
          "text": [
            "7909\n"
          ]
        }
      ],
      "source": [
        "print(len(texts))"
      ]
    },
    {
      "cell_type": "code",
      "execution_count": null,
      "metadata": {
        "colab": {
          "base_uri": "https://localhost:8080/"
        },
        "id": "1lOvUKKhzoH7",
        "outputId": "8ecaf4b9-5e6b-4c3d-fee4-66b2f39fb60f"
      },
      "outputs": [
        {
          "data": {
            "text/plain": [
              "list"
            ]
          },
          "execution_count": 23,
          "metadata": {},
          "output_type": "execute_result"
        }
      ],
      "source": [
        "type(texts)"
      ]
    },
    {
      "cell_type": "code",
      "execution_count": null,
      "metadata": {
        "id": "qKZpelW85xfm"
      },
      "outputs": [],
      "source": [
        "pip install sentence-transformers langchain chromadb"
      ]
    },
    {
      "cell_type": "code",
      "execution_count": null,
      "metadata": {
        "id": "FDOe5uKc6PSi"
      },
      "outputs": [],
      "source": [
        "pip install -U langchain-huggingface"
      ]
    },
    {
      "cell_type": "code",
      "execution_count": null,
      "metadata": {
        "id": "4L3B4T-D52lh"
      },
      "outputs": [],
      "source": [
        "from langchain_huggingface import HuggingFaceEmbeddings\n",
        "from langchain.vectorstores import Chroma"
      ]
    },
    {
      "cell_type": "code",
      "execution_count": null,
      "metadata": {
        "id": "mXcMntYR6mfz"
      },
      "outputs": [],
      "source": [
        "!pip uninstall -y tensorflow transformers\n",
        "!pip install tensorflow-cpu==2.12.0\n",
        "!pip install transformers==4.33.2\n",
        "!pip uninstall -y tensorflow\n",
        "!pip install torch torchvision torchaudio\n",
        "!pip install transformers\n",
        "!pip uninstall -y tensorflow\n",
        "!pip install tensorflow-cpu"
      ]
    },
    {
      "cell_type": "code",
      "execution_count": null,
      "metadata": {
        "id": "dmjeN9ag8j0m"
      },
      "outputs": [],
      "source": [
        "pip install sentence-transformers"
      ]
    },
    {
      "cell_type": "code",
      "execution_count": null,
      "metadata": {
        "id": "A84dSPxN6AyZ"
      },
      "outputs": [],
      "source": [
        "embedding_model = HuggingFaceEmbeddings(model_name=\"sentence-transformers/all-MiniLM-L6-v2\")"
      ]
    },
    {
      "cell_type": "code",
      "execution_count": null,
      "metadata": {
        "id": "db_3XjPffBG7"
      },
      "outputs": [],
      "source": [
        "vectorstore = Chroma.from_documents(texts, embedding_model)"
      ]
    },
    {
      "cell_type": "code",
      "execution_count": null,
      "metadata": {
        "colab": {
          "base_uri": "https://localhost:8080/"
        },
        "id": "QUMcZNSvouoX",
        "outputId": "1331d64d-367b-4d29-84b2-cede0f133de0"
      },
      "outputs": [
        {
          "name": "stdout",
          "output_type": "stream",
          "text": [
            "Created a vectorstore with 7909 documents.\n"
          ]
        }
      ],
      "source": [
        "print(f\"Created a vectorstore with {len(texts)} documents.\")"
      ]
    },
    {
      "cell_type": "code",
      "execution_count": null,
      "metadata": {
        "id": "Hefp9YUpJlLS"
      },
      "outputs": [],
      "source": [
        "pip install langchain chromadb sentence-transformers torch torchvision torchaudio transformers accelerate"
      ]
    },
    {
      "cell_type": "code",
      "execution_count": null,
      "metadata": {
        "id": "OdCVUGrZRxQN"
      },
      "outputs": [],
      "source": [
        "from huggingface_hub import login\n",
        "login(token=\"YOUR_HUGGINGFACE_TOKEN\")"
      ]
    },
    {
      "cell_type": "code",
      "execution_count": null,
      "metadata": {
        "id": "EGrze64qpCWB"
      },
      "outputs": [],
      "source": [
        "from transformers import AutoTokenizer, AutoModelForCausalLM\n",
        "import torch\n",
        "\n",
        "tokenizer = AutoTokenizer.from_pretrained(\"mistralai/Mistral-7B-v0.1\")\n",
        "model = AutoModelForCausalLM.from_pretrained(\"mistralai/Mistral-7B-v0.1\")"
      ]
    },
    {
      "cell_type": "code",
      "execution_count": null,
      "metadata": {
        "id": "nNTaE1fAZ9Lu"
      },
      "outputs": [],
      "source": [
        "def retrieve_context(question, retriever, top_k=5):\n",
        "    \"\"\"\n",
        "    Retrieve the top-k most relevant documents from the vector store.\n",
        "    \"\"\"\n",
        "    docs = retriever.get_relevant_documents(question)\n",
        "    context = \"\\n\".join([doc.page_content for doc in docs[:top_k]])\n",
        "    return context\n"
      ]
    },
    {
      "cell_type": "code",
      "execution_count": null,
      "metadata": {
        "id": "V2zPfEDZcPmd"
      },
      "outputs": [],
      "source": [
        "def generate_answer_with_mistral(question, context, model, tokenizer):\n",
        "    \"\"\"\n",
        "    Use Mistral 7B to generate an answer based on the retrieved context.\n",
        "    \"\"\"\n",
        "    prompt = f\"Context: {context}\\n\\nQuestion: {question}\\n\\nAnswer:\"\n",
        "    inputs = tokenizer(prompt, return_tensors=\"pt\", truncation=True, max_length=2048)\n",
        "\n",
        "    # Generating response\n",
        "    outputs = model.generate(\n",
        "        inputs[\"input_ids\"],\n",
        "        max_new_tokens=200,\n",
        "        do_sample=True,\n",
        "        temperature=0.7,\n",
        "        top_p=0.9\n",
        "    )\n",
        "    answer = tokenizer.decode(outputs[0], skip_special_tokens=True)\n",
        "    return answer.split(\"Answer:\")[-1].strip()\n"
      ]
    },
    {
      "cell_type": "code",
      "execution_count": null,
      "metadata": {
        "id": "8e20aQW-XB9v"
      },
      "outputs": [],
      "source": [
        "def rag_pipeline(question, retriever, model, tokenizer, top_k=5):\n",
        "    \"\"\"\n",
        "    RAG pipeline: retrieve context and generate an answer.\n",
        "    \"\"\"\n",
        "    # Step 1: Retrieving relevant context\n",
        "    context = retrieve_context(question, retriever, top_k)\n",
        "\n",
        "    if not context:\n",
        "        return \"Sorry, I couldn't find relevant information in the documents.\"\n",
        "\n",
        "    # Step 2: Generating answer using Mistral 7B\n",
        "    answer = generate_answer_with_mistral(question, context, model, tokenizer)\n",
        "    return answer\n"
      ]
    },
    {
      "cell_type": "code",
      "execution_count": null,
      "metadata": {
        "colab": {
          "background_save": true,
          "base_uri": "https://localhost:8080/"
        },
        "id": "ylHVCAyhS_EG",
        "outputId": "65285e3c-d6e4-4ccd-e6bc-3d01faee13b0"
      },
      "outputs": [
        {
          "name": "stderr",
          "output_type": "stream",
          "text": [
            "The attention mask and the pad token id were not set. As a consequence, you may observe unexpected behavior. Please pass your input's `attention_mask` to obtain reliable results.\n",
            "Setting `pad_token_id` to `eos_token_id`:None for open-end generation.\n"
          ]
        },
        {
          "name": "stdout",
          "output_type": "stream",
          "text": [
            "Question: What are the general provisions mentioned in the Act?\n",
            "Answer: 1. The provisions relating to the levy and collection of tax.\n",
            "2. The provisions relating to the assessment and collection of tax.\n",
            "3. The provisions relating to the determination of taxable income.\n",
            "4. The provisions relating to the procedure for appeals, revision, etc.\n",
            "5. The provisions relating to the procedure for making rules.\n",
            "6. The provisions relating to the procedure for making regulations.\n",
            "7. The provisions relating to the grant of exemption.\n",
            "8. The provisions relating to the levy and collection of interest, penalties and other sums.\n",
            "9. The provisions relating to the grant of relief.\n",
            "10. The provisions relating to the application of provisions of other laws.\n",
            "11. The provisions relating to the application of provisions of this Act to a person not ordinarily resident in India.\n",
            "12. The provisions relating to the application of provisions of this Act to a foreign company.\n",
            "13. The\n"
          ]
        }
      ],
      "source": [
        "from langchain.vectorstores import Chroma\n",
        "\n",
        "# Loading the Chroma vector store\n",
        "retriever = vectorstore.as_retriever(search_type=\"similarity\", search_kwargs={\"k\": 5})\n",
        "\n",
        "question = \"What are the general provisions mentioned in the Act?\"\n",
        "\n",
        "# Get the response\n",
        "answer = rag_pipeline(question, retriever, model, tokenizer)\n",
        "print(f\"Question: {question}\")\n",
        "print(f\"Answer: {answer}\")"
      ]
    },
    {
      "cell_type": "code",
      "execution_count": null,
      "metadata": {
        "id": "s2QORwCcTFR-"
      },
      "outputs": [],
      "source": []
    }
  ],
  "metadata": {
    "accelerator": "TPU",
    "colab": {
      "gpuType": "V28",
      "provenance": []
    },
    "kernelspec": {
      "display_name": "Python 3",
      "name": "python3"
    },
    "language_info": {
      "name": "python"
    }
  },
  "nbformat": 4,
  "nbformat_minor": 0
}
